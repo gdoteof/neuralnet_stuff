{
  "nbformat": 4,
  "nbformat_minor": 0,
  "metadata": {
    "colab": {
      "name": "untoken.ipynb",
      "version": "0.3.2",
      "provenance": [],
      "include_colab_link": true
    },
    "kernelspec": {
      "name": "python3",
      "display_name": "Python 3"
    }
  },
  "cells": [
    {
      "cell_type": "markdown",
      "metadata": {
        "id": "view-in-github",
        "colab_type": "text"
      },
      "source": [
        "<a href=\"https://colab.research.google.com/github/gdoteof/neuralnet_stuff/blob/master/untoken.ipynb\" target=\"_parent\"><img src=\"https://colab.research.google.com/assets/colab-badge.svg\" alt=\"Open In Colab\"/></a>"
      ]
    },
    {
      "metadata": {
        "id": "2UUFE4ictvVq",
        "colab_type": "code",
        "colab": {}
      },
      "cell_type": "code",
      "source": [
        "test_str=\"xxup copy of course appear of course or half - dressed on his gf ill cross ! i was unemployed vans - land through the smallest shoes leave\"\n"
      ],
      "execution_count": 0,
      "outputs": []
    },
    {
      "metadata": {
        "id": "9pOn1GRkt0Bq",
        "colab_type": "code",
        "colab": {
          "base_uri": "https://localhost:8080/",
          "height": 493
        },
        "outputId": "f09cc211-ee3a-4f60-e1a6-801493fe65fd"
      },
      "cell_type": "code",
      "source": [
        "for x in test_str.split():\n",
        "  print (f'{x}')"
      ],
      "execution_count": 8,
      "outputs": [
        {
          "output_type": "stream",
          "text": [
            "xxup\n",
            "copy\n",
            "of\n",
            "course\n",
            "appear\n",
            "of\n",
            "course\n",
            "or\n",
            "half\n",
            "-\n",
            "dressed\n",
            "on\n",
            "his\n",
            "gf\n",
            "ill\n",
            "cross\n",
            "!\n",
            "i\n",
            "was\n",
            "unemployed\n",
            "vans\n",
            "-\n",
            "land\n",
            "through\n",
            "the\n",
            "smallest\n",
            "shoes\n",
            "leave\n"
          ],
          "name": "stdout"
        }
      ]
    },
    {
      "metadata": {
        "id": "qp83aEP9t0Ro",
        "colab_type": "text"
      },
      "cell_type": "markdown",
      "source": [
        "xxup is a token which mean the next word should be uppercased.\n"
      ]
    },
    {
      "metadata": {
        "id": "zxURUTS-vMA2",
        "colab_type": "code",
        "colab": {
          "base_uri": "https://localhost:8080/",
          "height": 493
        },
        "outputId": "841c3599-b255-401c-b63f-f16e640bbb1d"
      },
      "cell_type": "code",
      "source": [
        "pieces = test_str.split()\n",
        "for idx,val in enumerate(pieces):\n",
        "  print(f'{idx}:{val}')"
      ],
      "execution_count": 16,
      "outputs": [
        {
          "output_type": "stream",
          "text": [
            "0:xxup\n",
            "1:copy\n",
            "2:of\n",
            "3:course\n",
            "4:appear\n",
            "5:of\n",
            "6:course\n",
            "7:or\n",
            "8:half\n",
            "9:-\n",
            "10:dressed\n",
            "11:on\n",
            "12:his\n",
            "13:gf\n",
            "14:ill\n",
            "15:cross\n",
            "16:!\n",
            "17:i\n",
            "18:was\n",
            "19:unemployed\n",
            "20:vans\n",
            "21:-\n",
            "22:land\n",
            "23:through\n",
            "24:the\n",
            "25:smallest\n",
            "26:shoes\n",
            "27:leave\n"
          ],
          "name": "stdout"
        }
      ]
    },
    {
      "metadata": {
        "id": "f4kqCUX7vfG0",
        "colab_type": "code",
        "colab": {}
      },
      "cell_type": "code",
      "source": [
        "def un_xxup(str):\n",
        "  pieces = test_str.split()\n",
        "  for index,value in enumerate(pieces):\n",
        "    if value == 'xxup':\n",
        "      pieces[index+1] = pieces[index+1].capitalize()\n",
        "      del pieces[index]\n",
        "  return \" \".join(pieces)"
      ],
      "execution_count": 0,
      "outputs": []
    },
    {
      "metadata": {
        "id": "Kg7FuPRYwp8B",
        "colab_type": "code",
        "colab": {
          "base_uri": "https://localhost:8080/",
          "height": 34
        },
        "outputId": "b9fcd1b4-aa37-48e1-d646-25029e1f1a67"
      },
      "cell_type": "code",
      "source": [
        "un_xxup(test_str)"
      ],
      "execution_count": 37,
      "outputs": [
        {
          "output_type": "execute_result",
          "data": {
            "text/plain": [
              "'Copy of course appear of course or half - dressed on his gf ill cross ! i was unemployed vans - land through the smallest shoes leave'"
            ]
          },
          "metadata": {
            "tags": []
          },
          "execution_count": 37
        }
      ]
    },
    {
      "metadata": {
        "id": "39vUjXXHx83L",
        "colab_type": "code",
        "colab": {}
      },
      "cell_type": "code",
      "source": [
        ""
      ],
      "execution_count": 0,
      "outputs": []
    }
  ]
}