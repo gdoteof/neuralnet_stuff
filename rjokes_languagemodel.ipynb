{
  "nbformat": 4,
  "nbformat_minor": 0,
  "metadata": {
    "colab": {
      "name": "rjokes_languagemodel.ipynb",
      "version": "0.3.2",
      "provenance": [],
      "collapsed_sections": [
        "PPiVqJbLaa_U",
        "8zj1GE_eaa_a",
        "Dlo9jv1baa_6",
        "rZZ16hoYabAm"
      ],
      "include_colab_link": true
    },
    "kernelspec": {
      "name": "python3",
      "display_name": "Python 3"
    },
    "accelerator": "GPU"
  },
  "cells": [
    {
      "cell_type": "markdown",
      "metadata": {
        "id": "view-in-github",
        "colab_type": "text"
      },
      "source": [
        "<a href=\"https://colab.research.google.com/github/gdoteof/neuralnet_stuff/blob/master/rjokes_languagemodel.ipynb\" target=\"_parent\"><img src=\"https://colab.research.google.com/assets/colab-badge.svg\" alt=\"Open In Colab\"/></a>"
      ]
    },
    {
      "metadata": {
        "id": "5XEc0V7daa-w",
        "colab_type": "text"
      },
      "cell_type": "markdown",
      "source": [
        "# IMDB"
      ]
    },
    {
      "metadata": {
        "id": "qWCoU-usaeTO",
        "colab_type": "code",
        "colab": {}
      },
      "cell_type": "code",
      "source": [
        "  !curl https://course-v3.fast.ai/setup/colab | bash"
      ],
      "execution_count": 0,
      "outputs": []
    },
    {
      "metadata": {
        "id": "DsjcWT8bN5Gm",
        "colab_type": "code",
        "outputId": "1e07b3c0-78c9-48be-8eda-8fb9dec29693",
        "colab": {
          "base_uri": "https://localhost:8080/",
          "height": 124
        }
      },
      "cell_type": "code",
      "source": [
        "#@title Default title text\n",
        "from google.colab import drive\n",
        "drive.mount('/content/drive')"
      ],
      "execution_count": 0,
      "outputs": [
        {
          "output_type": "stream",
          "text": [
            "Go to this URL in a browser: https://accounts.google.com/o/oauth2/auth?client_id=947318989803-6bn6qk8qdgf4n4g3pfee6491hc0brc4i.apps.googleusercontent.com&redirect_uri=urn%3Aietf%3Awg%3Aoauth%3A2.0%3Aoob&scope=email%20https%3A%2F%2Fwww.googleapis.com%2Fauth%2Fdocs.test%20https%3A%2F%2Fwww.googleapis.com%2Fauth%2Fdrive%20https%3A%2F%2Fwww.googleapis.com%2Fauth%2Fdrive.photos.readonly%20https%3A%2F%2Fwww.googleapis.com%2Fauth%2Fpeopleapi.readonly&response_type=code\n",
            "\n",
            "Enter your authorization code:\n",
            "··········\n",
            "Mounted at /content/drive\n"
          ],
          "name": "stdout"
        }
      ]
    },
    {
      "metadata": {
        "id": "dx7X7fAH0O1X",
        "colab_type": "code",
        "colab": {}
      },
      "cell_type": "code",
      "source": [
        "BASE='/content/drive/My Drive/ai/'"
      ],
      "execution_count": 0,
      "outputs": []
    },
    {
      "metadata": {
        "id": "fFXK91tWXvcd",
        "colab_type": "code",
        "colab": {
          "base_uri": "https://localhost:8080/",
          "height": 34
        },
        "outputId": "cbec9f82-fe66-45e3-b550-e88227600772"
      },
      "cell_type": "code",
      "source": [
        "!ls {BASE}"
      ],
      "execution_count": 11,
      "outputs": [
        {
          "output_type": "stream",
          "text": [
            "reddit_jokes.csv\n"
          ],
          "name": "stdout"
        }
      ]
    },
    {
      "metadata": {
        "id": "EEl85-meaa-z",
        "colab_type": "code",
        "colab": {}
      },
      "cell_type": "code",
      "source": [
        "%reload_ext autoreload\n",
        "%autoreload 2\n",
        "%matplotlib inline"
      ],
      "execution_count": 0,
      "outputs": []
    },
    {
      "metadata": {
        "id": "XzAzOTrsaa-3",
        "colab_type": "code",
        "colab": {}
      },
      "cell_type": "code",
      "source": [
        "import sys\n",
        "from fastai import *\n",
        "from fastai.text import *"
      ],
      "execution_count": 0,
      "outputs": []
    },
    {
      "metadata": {
        "id": "rrAMmE62aa-9",
        "colab_type": "code",
        "colab": {}
      },
      "cell_type": "code",
      "source": [
        "#from google.colab import files\n",
        "#uploaded = files.upload()"
      ],
      "execution_count": 0,
      "outputs": []
    },
    {
      "metadata": {
        "id": "449gfn1faa_L",
        "colab_type": "code",
        "colab": {}
      },
      "cell_type": "code",
      "source": [
        "PATH='.'\n",
        "df=pd.read_csv(f'{BASE}reddit_jokes.csv')"
      ],
      "execution_count": 0,
      "outputs": []
    },
    {
      "metadata": {
        "id": "sc-EkJvR1laA",
        "colab_type": "code",
        "colab": {
          "base_uri": "https://localhost:8080/",
          "height": 173
        },
        "outputId": "ee66c2c6-ea18-4698-9e20-c887efc0d671"
      },
      "cell_type": "code",
      "source": [
        "df.head().T"
      ],
      "execution_count": 15,
      "outputs": [
        {
          "output_type": "execute_result",
          "data": {
            "text/html": [
              "<div>\n",
              "<style scoped>\n",
              "    .dataframe tbody tr th:only-of-type {\n",
              "        vertical-align: middle;\n",
              "    }\n",
              "\n",
              "    .dataframe tbody tr th {\n",
              "        vertical-align: top;\n",
              "    }\n",
              "\n",
              "    .dataframe thead th {\n",
              "        text-align: right;\n",
              "    }\n",
              "</style>\n",
              "<table border=\"1\" class=\"dataframe\">\n",
              "  <thead>\n",
              "    <tr style=\"text-align: right;\">\n",
              "      <th></th>\n",
              "      <th>0</th>\n",
              "      <th>1</th>\n",
              "      <th>2</th>\n",
              "      <th>3</th>\n",
              "      <th>4</th>\n",
              "    </tr>\n",
              "  </thead>\n",
              "  <tbody>\n",
              "    <tr>\n",
              "      <th>body</th>\n",
              "      <td>Now I have to say \"Leroy can you please paint ...</td>\n",
              "      <td>Pizza doesn't scream when you put it in the ov...</td>\n",
              "      <td>...and being there really helped me learn abou...</td>\n",
              "      <td>A Sunday school teacher is concerned that his ...</td>\n",
              "      <td>He got caught trying to sell the two books to ...</td>\n",
              "    </tr>\n",
              "    <tr>\n",
              "      <th>id</th>\n",
              "      <td>5tz52q</td>\n",
              "      <td>5tz4dd</td>\n",
              "      <td>5tz319</td>\n",
              "      <td>5tz2wj</td>\n",
              "      <td>5tz1pc</td>\n",
              "    </tr>\n",
              "    <tr>\n",
              "      <th>score</th>\n",
              "      <td>1</td>\n",
              "      <td>0</td>\n",
              "      <td>0</td>\n",
              "      <td>1</td>\n",
              "      <td>0</td>\n",
              "    </tr>\n",
              "    <tr>\n",
              "      <th>title</th>\n",
              "      <td>I hate how you cant even say black paint anymore</td>\n",
              "      <td>What's the difference between a Jew in Nazi Ge...</td>\n",
              "      <td>I recently went to America....</td>\n",
              "      <td>Brian raises his hand and says, “He’s in Heaven.”</td>\n",
              "      <td>You hear about the University book store worke...</td>\n",
              "    </tr>\n",
              "  </tbody>\n",
              "</table>\n",
              "</div>"
            ],
            "text/plain": [
              "                                                       0  \\\n",
              "body   Now I have to say \"Leroy can you please paint ...   \n",
              "id                                                5tz52q   \n",
              "score                                                  1   \n",
              "title   I hate how you cant even say black paint anymore   \n",
              "\n",
              "                                                       1  \\\n",
              "body   Pizza doesn't scream when you put it in the ov...   \n",
              "id                                                5tz4dd   \n",
              "score                                                  0   \n",
              "title  What's the difference between a Jew in Nazi Ge...   \n",
              "\n",
              "                                                       2  \\\n",
              "body   ...and being there really helped me learn abou...   \n",
              "id                                                5tz319   \n",
              "score                                                  0   \n",
              "title                     I recently went to America....   \n",
              "\n",
              "                                                       3  \\\n",
              "body   A Sunday school teacher is concerned that his ...   \n",
              "id                                                5tz2wj   \n",
              "score                                                  1   \n",
              "title  Brian raises his hand and says, “He’s in Heaven.”   \n",
              "\n",
              "                                                       4  \n",
              "body   He got caught trying to sell the two books to ...  \n",
              "id                                                5tz1pc  \n",
              "score                                                  0  \n",
              "title  You hear about the University book store worke...  "
            ]
          },
          "metadata": {
            "tags": []
          },
          "execution_count": 15
        }
      ]
    },
    {
      "metadata": {
        "id": "cfsGk4yhbV_P",
        "colab_type": "code",
        "outputId": "65b56d0a-ef73-4740-d8e8-5af9018c57a1",
        "colab": {
          "base_uri": "https://localhost:8080/",
          "height": 204
        }
      },
      "cell_type": "code",
      "source": [
        "df['text'] = df['title'] + ' ZZZBODYZZZ ' + df['body']\n",
        "df.head().T\n"
      ],
      "execution_count": 16,
      "outputs": [
        {
          "output_type": "execute_result",
          "data": {
            "text/html": [
              "<div>\n",
              "<style scoped>\n",
              "    .dataframe tbody tr th:only-of-type {\n",
              "        vertical-align: middle;\n",
              "    }\n",
              "\n",
              "    .dataframe tbody tr th {\n",
              "        vertical-align: top;\n",
              "    }\n",
              "\n",
              "    .dataframe thead th {\n",
              "        text-align: right;\n",
              "    }\n",
              "</style>\n",
              "<table border=\"1\" class=\"dataframe\">\n",
              "  <thead>\n",
              "    <tr style=\"text-align: right;\">\n",
              "      <th></th>\n",
              "      <th>0</th>\n",
              "      <th>1</th>\n",
              "      <th>2</th>\n",
              "      <th>3</th>\n",
              "      <th>4</th>\n",
              "    </tr>\n",
              "  </thead>\n",
              "  <tbody>\n",
              "    <tr>\n",
              "      <th>body</th>\n",
              "      <td>Now I have to say \"Leroy can you please paint ...</td>\n",
              "      <td>Pizza doesn't scream when you put it in the ov...</td>\n",
              "      <td>...and being there really helped me learn abou...</td>\n",
              "      <td>A Sunday school teacher is concerned that his ...</td>\n",
              "      <td>He got caught trying to sell the two books to ...</td>\n",
              "    </tr>\n",
              "    <tr>\n",
              "      <th>id</th>\n",
              "      <td>5tz52q</td>\n",
              "      <td>5tz4dd</td>\n",
              "      <td>5tz319</td>\n",
              "      <td>5tz2wj</td>\n",
              "      <td>5tz1pc</td>\n",
              "    </tr>\n",
              "    <tr>\n",
              "      <th>score</th>\n",
              "      <td>1</td>\n",
              "      <td>0</td>\n",
              "      <td>0</td>\n",
              "      <td>1</td>\n",
              "      <td>0</td>\n",
              "    </tr>\n",
              "    <tr>\n",
              "      <th>title</th>\n",
              "      <td>I hate how you cant even say black paint anymore</td>\n",
              "      <td>What's the difference between a Jew in Nazi Ge...</td>\n",
              "      <td>I recently went to America....</td>\n",
              "      <td>Brian raises his hand and says, “He’s in Heaven.”</td>\n",
              "      <td>You hear about the University book store worke...</td>\n",
              "    </tr>\n",
              "    <tr>\n",
              "      <th>text</th>\n",
              "      <td>I hate how you cant even say black paint anymo...</td>\n",
              "      <td>What's the difference between a Jew in Nazi Ge...</td>\n",
              "      <td>I recently went to America.... ZZZBODYZZZ ...a...</td>\n",
              "      <td>Brian raises his hand and says, “He’s in Heave...</td>\n",
              "      <td>You hear about the University book store worke...</td>\n",
              "    </tr>\n",
              "  </tbody>\n",
              "</table>\n",
              "</div>"
            ],
            "text/plain": [
              "                                                       0  \\\n",
              "body   Now I have to say \"Leroy can you please paint ...   \n",
              "id                                                5tz52q   \n",
              "score                                                  1   \n",
              "title   I hate how you cant even say black paint anymore   \n",
              "text   I hate how you cant even say black paint anymo...   \n",
              "\n",
              "                                                       1  \\\n",
              "body   Pizza doesn't scream when you put it in the ov...   \n",
              "id                                                5tz4dd   \n",
              "score                                                  0   \n",
              "title  What's the difference between a Jew in Nazi Ge...   \n",
              "text   What's the difference between a Jew in Nazi Ge...   \n",
              "\n",
              "                                                       2  \\\n",
              "body   ...and being there really helped me learn abou...   \n",
              "id                                                5tz319   \n",
              "score                                                  0   \n",
              "title                     I recently went to America....   \n",
              "text   I recently went to America.... ZZZBODYZZZ ...a...   \n",
              "\n",
              "                                                       3  \\\n",
              "body   A Sunday school teacher is concerned that his ...   \n",
              "id                                                5tz2wj   \n",
              "score                                                  1   \n",
              "title  Brian raises his hand and says, “He’s in Heaven.”   \n",
              "text   Brian raises his hand and says, “He’s in Heave...   \n",
              "\n",
              "                                                       4  \n",
              "body   He got caught trying to sell the two books to ...  \n",
              "id                                                5tz1pc  \n",
              "score                                                  0  \n",
              "title  You hear about the University book store worke...  \n",
              "text   You hear about the University book store worke...  "
            ]
          },
          "metadata": {
            "tags": []
          },
          "execution_count": 16
        }
      ]
    },
    {
      "metadata": {
        "id": "xWbBZkT2b7ek",
        "colab_type": "code",
        "outputId": "9d90c266-87ba-4e36-b6b5-19df6f04d3f1",
        "colab": {
          "base_uri": "https://localhost:8080/",
          "height": 111
        }
      },
      "cell_type": "code",
      "source": [
        "del df['body']\n",
        "del df['title']\n",
        "del df['id']\n",
        "\n",
        "df.head().T"
      ],
      "execution_count": 17,
      "outputs": [
        {
          "output_type": "execute_result",
          "data": {
            "text/html": [
              "<div>\n",
              "<style scoped>\n",
              "    .dataframe tbody tr th:only-of-type {\n",
              "        vertical-align: middle;\n",
              "    }\n",
              "\n",
              "    .dataframe tbody tr th {\n",
              "        vertical-align: top;\n",
              "    }\n",
              "\n",
              "    .dataframe thead th {\n",
              "        text-align: right;\n",
              "    }\n",
              "</style>\n",
              "<table border=\"1\" class=\"dataframe\">\n",
              "  <thead>\n",
              "    <tr style=\"text-align: right;\">\n",
              "      <th></th>\n",
              "      <th>0</th>\n",
              "      <th>1</th>\n",
              "      <th>2</th>\n",
              "      <th>3</th>\n",
              "      <th>4</th>\n",
              "    </tr>\n",
              "  </thead>\n",
              "  <tbody>\n",
              "    <tr>\n",
              "      <th>score</th>\n",
              "      <td>1</td>\n",
              "      <td>0</td>\n",
              "      <td>0</td>\n",
              "      <td>1</td>\n",
              "      <td>0</td>\n",
              "    </tr>\n",
              "    <tr>\n",
              "      <th>text</th>\n",
              "      <td>I hate how you cant even say black paint anymo...</td>\n",
              "      <td>What's the difference between a Jew in Nazi Ge...</td>\n",
              "      <td>I recently went to America.... ZZZBODYZZZ ...a...</td>\n",
              "      <td>Brian raises his hand and says, “He’s in Heave...</td>\n",
              "      <td>You hear about the University book store worke...</td>\n",
              "    </tr>\n",
              "  </tbody>\n",
              "</table>\n",
              "</div>"
            ],
            "text/plain": [
              "                                                       0  \\\n",
              "score                                                  1   \n",
              "text   I hate how you cant even say black paint anymo...   \n",
              "\n",
              "                                                       1  \\\n",
              "score                                                  0   \n",
              "text   What's the difference between a Jew in Nazi Ge...   \n",
              "\n",
              "                                                       2  \\\n",
              "score                                                  0   \n",
              "text   I recently went to America.... ZZZBODYZZZ ...a...   \n",
              "\n",
              "                                                       3  \\\n",
              "score                                                  1   \n",
              "text   Brian raises his hand and says, “He’s in Heave...   \n",
              "\n",
              "                                                       4  \n",
              "score                                                  0  \n",
              "text   You hear about the University book store worke...  "
            ]
          },
          "metadata": {
            "tags": []
          },
          "execution_count": 17
        }
      ]
    },
    {
      "metadata": {
        "id": "atjR3fjIcsOf",
        "colab_type": "code",
        "outputId": "a26ae0fe-6027-4e89-b780-136994a60780",
        "colab": {
          "base_uri": "https://localhost:8080/",
          "height": 173
        }
      },
      "cell_type": "code",
      "source": [
        "df['label'] = 'joke'\n",
        "df['is_valid'] = False\n",
        "df.head().T"
      ],
      "execution_count": 18,
      "outputs": [
        {
          "output_type": "execute_result",
          "data": {
            "text/html": [
              "<div>\n",
              "<style scoped>\n",
              "    .dataframe tbody tr th:only-of-type {\n",
              "        vertical-align: middle;\n",
              "    }\n",
              "\n",
              "    .dataframe tbody tr th {\n",
              "        vertical-align: top;\n",
              "    }\n",
              "\n",
              "    .dataframe thead th {\n",
              "        text-align: right;\n",
              "    }\n",
              "</style>\n",
              "<table border=\"1\" class=\"dataframe\">\n",
              "  <thead>\n",
              "    <tr style=\"text-align: right;\">\n",
              "      <th></th>\n",
              "      <th>0</th>\n",
              "      <th>1</th>\n",
              "      <th>2</th>\n",
              "      <th>3</th>\n",
              "      <th>4</th>\n",
              "    </tr>\n",
              "  </thead>\n",
              "  <tbody>\n",
              "    <tr>\n",
              "      <th>score</th>\n",
              "      <td>1</td>\n",
              "      <td>0</td>\n",
              "      <td>0</td>\n",
              "      <td>1</td>\n",
              "      <td>0</td>\n",
              "    </tr>\n",
              "    <tr>\n",
              "      <th>text</th>\n",
              "      <td>I hate how you cant even say black paint anymo...</td>\n",
              "      <td>What's the difference between a Jew in Nazi Ge...</td>\n",
              "      <td>I recently went to America.... ZZZBODYZZZ ...a...</td>\n",
              "      <td>Brian raises his hand and says, “He’s in Heave...</td>\n",
              "      <td>You hear about the University book store worke...</td>\n",
              "    </tr>\n",
              "    <tr>\n",
              "      <th>label</th>\n",
              "      <td>joke</td>\n",
              "      <td>joke</td>\n",
              "      <td>joke</td>\n",
              "      <td>joke</td>\n",
              "      <td>joke</td>\n",
              "    </tr>\n",
              "    <tr>\n",
              "      <th>is_valid</th>\n",
              "      <td>False</td>\n",
              "      <td>False</td>\n",
              "      <td>False</td>\n",
              "      <td>False</td>\n",
              "      <td>False</td>\n",
              "    </tr>\n",
              "  </tbody>\n",
              "</table>\n",
              "</div>"
            ],
            "text/plain": [
              "                                                          0  \\\n",
              "score                                                     1   \n",
              "text      I hate how you cant even say black paint anymo...   \n",
              "label                                                  joke   \n",
              "is_valid                                              False   \n",
              "\n",
              "                                                          1  \\\n",
              "score                                                     0   \n",
              "text      What's the difference between a Jew in Nazi Ge...   \n",
              "label                                                  joke   \n",
              "is_valid                                              False   \n",
              "\n",
              "                                                          2  \\\n",
              "score                                                     0   \n",
              "text      I recently went to America.... ZZZBODYZZZ ...a...   \n",
              "label                                                  joke   \n",
              "is_valid                                              False   \n",
              "\n",
              "                                                          3  \\\n",
              "score                                                     1   \n",
              "text      Brian raises his hand and says, “He’s in Heave...   \n",
              "label                                                  joke   \n",
              "is_valid                                              False   \n",
              "\n",
              "                                                          4  \n",
              "score                                                     0  \n",
              "text      You hear about the University book store worke...  \n",
              "label                                                  joke  \n",
              "is_valid                                              False  "
            ]
          },
          "metadata": {
            "tags": []
          },
          "execution_count": 18
        }
      ]
    },
    {
      "metadata": {
        "id": "twSTrTWQcziA",
        "colab_type": "code",
        "colab": {}
      },
      "cell_type": "code",
      "source": [
        "df['text'] = 'ZZZBEGINZZZ ' + df['text'] + ' ZZZENDZZZ'"
      ],
      "execution_count": 0,
      "outputs": []
    },
    {
      "metadata": {
        "id": "h1uAssZC3WFz",
        "colab_type": "code",
        "colab": {
          "base_uri": "https://localhost:8080/",
          "height": 173
        },
        "outputId": "74f7a885-c068-47a0-8fa6-f6b10ce3dc9e"
      },
      "cell_type": "code",
      "source": [
        "df.head().T"
      ],
      "execution_count": 32,
      "outputs": [
        {
          "output_type": "execute_result",
          "data": {
            "text/html": [
              "<div>\n",
              "<style scoped>\n",
              "    .dataframe tbody tr th:only-of-type {\n",
              "        vertical-align: middle;\n",
              "    }\n",
              "\n",
              "    .dataframe tbody tr th {\n",
              "        vertical-align: top;\n",
              "    }\n",
              "\n",
              "    .dataframe thead th {\n",
              "        text-align: right;\n",
              "    }\n",
              "</style>\n",
              "<table border=\"1\" class=\"dataframe\">\n",
              "  <thead>\n",
              "    <tr style=\"text-align: right;\">\n",
              "      <th></th>\n",
              "      <th>0</th>\n",
              "      <th>1</th>\n",
              "      <th>2</th>\n",
              "      <th>3</th>\n",
              "      <th>4</th>\n",
              "    </tr>\n",
              "  </thead>\n",
              "  <tbody>\n",
              "    <tr>\n",
              "      <th>score</th>\n",
              "      <td>1</td>\n",
              "      <td>0</td>\n",
              "      <td>0</td>\n",
              "      <td>1</td>\n",
              "      <td>0</td>\n",
              "    </tr>\n",
              "    <tr>\n",
              "      <th>text</th>\n",
              "      <td>ZZZBEGINZZZ I hate how you cant even say black...</td>\n",
              "      <td>ZZZBEGINZZZ What's the difference between a Je...</td>\n",
              "      <td>ZZZBEGINZZZ I recently went to America.... ZZZ...</td>\n",
              "      <td>ZZZBEGINZZZ Brian raises his hand and says, “H...</td>\n",
              "      <td>ZZZBEGINZZZ You hear about the University book...</td>\n",
              "    </tr>\n",
              "    <tr>\n",
              "      <th>label</th>\n",
              "      <td>joke</td>\n",
              "      <td>joke</td>\n",
              "      <td>joke</td>\n",
              "      <td>joke</td>\n",
              "      <td>joke</td>\n",
              "    </tr>\n",
              "    <tr>\n",
              "      <th>is_valid</th>\n",
              "      <td>False</td>\n",
              "      <td>False</td>\n",
              "      <td>False</td>\n",
              "      <td>False</td>\n",
              "      <td>False</td>\n",
              "    </tr>\n",
              "  </tbody>\n",
              "</table>\n",
              "</div>"
            ],
            "text/plain": [
              "                                                          0  \\\n",
              "score                                                     1   \n",
              "text      ZZZBEGINZZZ I hate how you cant even say black...   \n",
              "label                                                  joke   \n",
              "is_valid                                              False   \n",
              "\n",
              "                                                          1  \\\n",
              "score                                                     0   \n",
              "text      ZZZBEGINZZZ What's the difference between a Je...   \n",
              "label                                                  joke   \n",
              "is_valid                                              False   \n",
              "\n",
              "                                                          2  \\\n",
              "score                                                     0   \n",
              "text      ZZZBEGINZZZ I recently went to America.... ZZZ...   \n",
              "label                                                  joke   \n",
              "is_valid                                              False   \n",
              "\n",
              "                                                          3  \\\n",
              "score                                                     1   \n",
              "text      ZZZBEGINZZZ Brian raises his hand and says, “H...   \n",
              "label                                                  joke   \n",
              "is_valid                                              False   \n",
              "\n",
              "                                                          4  \n",
              "score                                                     0  \n",
              "text      ZZZBEGINZZZ You hear about the University book...  \n",
              "label                                                  joke  \n",
              "is_valid                                              False  "
            ]
          },
          "metadata": {
            "tags": []
          },
          "execution_count": 32
        }
      ]
    },
    {
      "metadata": {
        "id": "KA769_XV3hxt",
        "colab_type": "code",
        "colab": {}
      },
      "cell_type": "code",
      "source": [
        "del df['score']"
      ],
      "execution_count": 0,
      "outputs": []
    },
    {
      "metadata": {
        "id": "uWeZgpwSLkIc",
        "colab_type": "code",
        "colab": {}
      },
      "cell_type": "code",
      "source": [
        "train, validate, test = np.split(df.sample(frac=1), [int(.7*len(df)), int(.85*len(df))])\n"
      ],
      "execution_count": 0,
      "outputs": []
    },
    {
      "metadata": {
        "id": "EVQjw-e_4NDF",
        "colab_type": "code",
        "colab": {
          "base_uri": "https://localhost:8080/",
          "height": 68
        },
        "outputId": "dcab7b0a-acf5-4607-8887-c0b1da56e451"
      },
      "cell_type": "code",
      "source": [
        "display(train.shape,validate.shape,test.shape)"
      ],
      "execution_count": 56,
      "outputs": [
        {
          "output_type": "display_data",
          "data": {
            "text/plain": [
              "(136187, 3)"
            ]
          },
          "metadata": {
            "tags": []
          }
        },
        {
          "output_type": "display_data",
          "data": {
            "text/plain": [
              "(29183, 3)"
            ]
          },
          "metadata": {
            "tags": []
          }
        },
        {
          "output_type": "display_data",
          "data": {
            "text/plain": [
              "(29183, 3)"
            ]
          },
          "metadata": {
            "tags": []
          }
        }
      ]
    },
    {
      "metadata": {
        "id": "s_EIlqWt5d6Y",
        "colab_type": "code",
        "colab": {}
      },
      "cell_type": "code",
      "source": [
        "train = train.dropna()\n",
        "validate = validate.dropna()\n",
        "test = test.dropna()"
      ],
      "execution_count": 0,
      "outputs": []
    },
    {
      "metadata": {
        "id": "DFoPRiu06nI6",
        "colab_type": "code",
        "colab": {}
      },
      "cell_type": "code",
      "source": [
        ""
      ],
      "execution_count": 0,
      "outputs": []
    },
    {
      "metadata": {
        "id": "4KEYTnDF6cFK",
        "colab_type": "code",
        "colab": {
          "base_uri": "https://localhost:8080/",
          "height": 68
        },
        "outputId": "4e4cd349-7bb0-44a6-a487-583de7e7ddf7"
      },
      "cell_type": "code",
      "source": [
        "display(train.shape,data_lm = TextLMDataBunch.load(path, 'tmp_lm', bs=bs)\n",
        "validate.shape,test.shape)"
      ],
      "execution_count": 58,
      "outputs": [
        {
          "output_type": "display_data",
          "data": {
            "text/plain": [
              "(133294, 3)"
            ]
          },
          "metadata": {
            "tags": []
          }
        },
        {
          "output_type": "display_data",
          "data": {
            "text/plain": [
              "(28563, 3)"
            ]
          },
          "metadata": {
            "tags": []
          }
        },
        {
          "output_type": "display_data",
          "data": {
            "text/plain": [
              "(28591, 3)"
            ]
          },
          "metadata": {
            "tags": []
          }
        }
      ]
    },
    {
      "metadata": {
        "id": "QUmOFB22k2eQ",
        "colab_type": "code",
        "colab": {}
      },
      "cell_type": "code",
      "source": [
        "joke_dm = TextDataBunch.from_df(BASE,train_df=train,valid_df=validate,test_df=test, text_cols=['text'], label_cols=['label'])"
      ],
      "execution_count": 0,
      "outputs": []
    },
    {
      "metadata": {
        "id": "Gh6swEDn7bXK",
        "colab_type": "code",
        "colab": {}
      },
      "cell_type": "code",
      "source": [
        "joke_lm = joke_dm\n",
        "joke_lm.save('joke_lm')"
      ],
      "execution_count": 0,
      "outputs": []
    },
    {
      "metadata": {
        "id": "mOxy82eDkTII",
        "colab_type": "code",
        "colab": {}
      },
      "cell_type": "code",
      "source": [
        "data_lm = TextLMDataBunch.load(BASE, 'joke_lm')"
      ],
      "execution_count": 0,
      "outputs": []
    },
    {
      "metadata": {
        "id": "pooGYAgnmexq",
        "colab_type": "code",
        "outputId": "d213daa8-979b-4dea-a68c-6d3ff0ce4a4c",
        "colab": {
          "base_uri": "https://localhost:8080/",
          "height": 471
        }
      },
      "cell_type": "code",
      "source": [
        "data_lm.show_batch()"
      ],
      "execution_count": 66,
      "outputs": [
        {
          "output_type": "display_data",
          "data": {
            "text/html": [
              "<table>  <col width='5%'>  <col width='95%'>  <tr>\n",
              "    <th>idx</th>\n",
              "    <th>text</th>\n",
              "  </tr>\n",
              "  <tr>\n",
              "    <th>0</th>\n",
              "    <th>xxbos xxfld 1 xxup zzzbeginzzz a radio station in ireland is taking calls to find a word that is commonly used but is n't in the dictionary yet ... xxup zzzbodyzzz the first caller gets through . \\n\\n \" hello ! what word do you think should be in the dictionary ? \" \\n\\n \" goan ! \" \\n\\n \" goan ? can you use it in a sentence ? \" \\n\\n \" yeah , go'an fuck yerself ! \" the caller then begins laughing until the station can cut off his call . \\n\\n</th>\n",
              "  </tr>\n",
              "  <tr>\n",
              "    <th>1</th>\n",
              "    <th>not a lion , that 's a giraffe . \" xxup zzzendzzz xxbos xxfld 1 xxup zzzbeginzzz i do n't understand why so many people in the south have bad teeth xxup zzzbodyzzz when they try their best to keep everything else straight and white . xxup zzzendzzz xxbos xxfld 1 xxup zzzbeginzzz deli meats xxup zzzbodyzzz i knew a guy who was addicted to deli meats . he just could n't quit cold turkey . xxup zzzendzzz xxbos xxfld 1 xxup zzzbeginzzz how many of my ex - wife does it take to screw</th>\n",
              "  </tr>\n",
              "  <tr>\n",
              "    <th>2</th>\n",
              "    <th>off . xxup zzzendzzz xxbos xxfld 1 xxup zzzbeginzzz what joke has recieved the most upvotes on reddit ? xxup zzzbodyzzz redditors . xxup zzzendzzz xxbos xxfld 1 xxup zzzbeginzzz how many freudian analysts does it take to screw in a lightbulb ? xxup zzzbodyzzz 2 . one to screw it in and the other to hold the penis --- ladder ! ! \\n i meant ladder ... xxup zzzendzzz xxbos xxfld 1 xxup zzzbeginzzz what did the customer ask the prostitute when they got to the hotel ? \\n \\n  xxup zzzbodyzzz do you come</th>\n",
              "  </tr>\n",
              "  <tr>\n",
              "    <th>3</th>\n",
              "    <th>a sperm bank with a shot gun . \\n\\n \" open the fucking safe ! \" he yells at the girl behind the counter . \\n\\n \" but we 're not a real bank \" replies the girl . \" this is a sperm bank , we do n't hold money \" . \\n\\n \" do n't argue just open the safe or i 'll blow your fucking head off ! \" she obliges and opens the safe door . \\n\\n \" take one of the bottles and drink it ! \" \\n\\n \" but</th>\n",
              "  </tr>\n",
              "  <tr>\n",
              "    <th>4</th>\n",
              "    <th>hundred dollar bill ? \\n\\n well , i do n't have the cash on me to break a hundred . but i did break your mother last night . xxup zzzendzzz xxbos xxfld 1 xxup zzzbeginzzz what do you call an ugly dinosaur ? xxup zzzbodyzzz an xxunk xxup zzzendzzz xxbos xxfld 1 xxup zzzbeginzzz my balloons xxup zzzbodyzzz i 'm a newly graduated entrepreneur breaking into the party xxunk game . i bought a ton of balloons a year ago for 99 cents each . in order to make a profit , how much</th>\n",
              "  </tr>\n",
              "  <tr>\n",
              "    <th>5</th>\n",
              "    <th>zzzendzzz xxbos xxfld 1 xxup zzzbeginzzz it 's nice to see women who do n't lose their figures as they grow older . xxup zzzbodyzzz they take such a long time to paint and warhammer is expensive enough as it is . xxup zzzendzzz xxbos xxfld 1 xxup zzzbeginzzz what did the deaf bug order at the bar ? xxup zzzbodyzzz a bee - ear xxup zzzendzzz xxbos xxfld 1 xxup zzzbeginzzz the irish virgin xxup zzzbodyzzz in a tiny village on the west coast of ireland lived an old lady , a virgin and</th>\n",
              "  </tr>\n",
              "  <tr>\n",
              "    <th>6</th>\n",
              "    <th>i do n't see what the big fuss is about this budgie jumping > ( \" - the second man says \" i agree , this free fall parrot shooting is n't all that its cracked up to be either > ( \" xxup zzzendzzz xxbos xxfld 1 xxup zzzbeginzzz a guy is running low on gas xxup zzzbodyzzz so he stops at a gas station with a sign that says : \\n\\n \" if you fill up , you have the chance to free sex ! \" \\n\\n it fills the tank to the</th>\n",
              "  </tr>\n",
              "  <tr>\n",
              "    <th>7</th>\n",
              "    <th>dog eating jokes and he makes the point to tell me that his dogs were family . \\n\\n if anyone tried to hurt his 3 dogs he would shoot them . \\n\\n i asked him if he named them breakfast , lunch , and dinner . xxup zzzendzzz xxbos xxfld 1 xxup zzzbeginzzz a helicopter was flying around above seattle ... xxup zzzbodyzzz a helicopter was flying around above seattle when an electrical malfunction disabled all of the aircraft 's electronic navigation and communications equipment . \\n\\n due to the clouds and haze , the</th>\n",
              "  </tr>\n",
              "  <tr>\n",
              "    <th>8</th>\n",
              "    <th>1 xxup zzzbeginzzz what type of weed are you allowed to smoke during ramadan ? xxup zzzbodyzzz xxunk \\n  xxup zzzendzzz xxbos xxfld 1 xxup zzzbeginzzz how do you silence an italian ? xxup zzzbodyzzz cut off his hands xxup zzzendzzz xxbos xxfld 1 xxup zzzbeginzzz what 's the worst part about being a black jew xxup zzzbodyzzz you have to stand in the back of the oven xxup zzzendzzz xxbos xxfld 1 xxup zzzbeginzzz a man calls in to work sick on a friday xxup zzzbodyzzz his boss asks him , \" why what</th>\n",
              "  </tr>\n",
              "  <tr>\n",
              "    <th>9</th>\n",
              "    <th>i have been with a woman of poor moral fiber . \" \\n\\n priest : \" that 's sad to hear young man ... i must ask ... was it jenny armstrong ? \" \\n young man : \" i can not say father . \" \\n priest : \" was it sarah smith ? \" \\n young man : \" i will not say , father . \" \\n priest : \" it must have been michelle xxunk . \" \\n young man : \" father , i will not say . \" \\n</th>\n",
              "  </tr>\n",
              "</table>\n"
            ],
            "text/plain": [
              "<IPython.core.display.HTML object>"
            ]
          },
          "metadata": {
            "tags": []
          }
        }
      ]
    },
    {
      "metadata": {
        "id": "hryIQI1_-qNX",
        "colab_type": "text"
      },
      "cell_type": "markdown",
      "source": [
        "Can we put a path below to the google drive?  Probably"
      ]
    },
    {
      "metadata": {
        "id": "iXINLz1X955w",
        "colab_type": "code",
        "colab": {}
      },
      "cell_type": "code",
      "source": [
        "learn = language_model_learner(data_lm, pretrained_model=URLs.WT103, drop_mult=0.3)"
      ],
      "execution_count": 0,
      "outputs": []
    },
    {
      "metadata": {
        "id": "0jlhuTigmnbr",
        "colab_type": "code",
        "outputId": "cd6794e0-957b-4a74-b101-6bd931abd69f",
        "colab": {
          "base_uri": "https://localhost:8080/",
          "height": 109
        }
      },
      "cell_type": "code",
      "source": [
        "\n",
        "learn.lr_find()"
      ],
      "execution_count": 70,
      "outputs": [
        {
          "output_type": "display_data",
          "data": {
            "text/html": [
              "\n",
              "    <div>\n",
              "        <style>\n",
              "        \t/* Turns off some styling */\n",
              "        \tprogress {\n",
              "\n",
              "            \t/* gets rid of default border in Firefox and Opera. */\n",
              "            \tborder: none;\n",
              "\n",
              "            \t/* Needs to be in here for Safari polyfill so background images work as expected. */\n",
              "            \tbackground-size: auto;\n",
              "            }\n",
              "\n",
              "            .progress-bar-interrupted, .progress-bar-interrupted::-webkit-progress-bar {\n",
              "                background: #F44336;\n",
              "            }\n",
              "        </style>\n",
              "      <progress value='0' class='' max='1', style='width:300px; height:20px; vertical-align: middle;'></progress>\n",
              "      0.00% [0/1 00:00<00:00]\n",
              "    </div>\n",
              "    \n",
              "<table style='width:300px; margin-bottom:10px'>\n",
              "  <tr>\n",
              "    <th>epoch</th>\n",
              "    <th>train_loss</th>\n",
              "    <th>valid_loss</th>\n",
              "    <th>accuracy</th>\n",
              "  </tr>\n",
              "  <tr>\n",
              "\n",
              "  </tr>\n",
              "</table>\n",
              "\n",
              "\n",
              "    <div>\n",
              "        <style>\n",
              "        \t/* Turns off some styling */\n",
              "        \tprogress {\n",
              "\n",
              "            \t/* gets rid of default border in Firefox and Opera. */\n",
              "            \tborder: none;\n",
              "\n",
              "            \t/* Needs to be in here for Safari polyfill so background images work as expected. */\n",
              "            \tbackground-size: auto;\n",
              "            }\n",
              "\n",
              "            .progress-bar-interrupted, .progress-bar-interrupted::-webkit-progress-bar {\n",
              "                background: #F44336;\n",
              "            }\n",
              "        </style>\n",
              "      <progress value='0' class='progress-bar-interrupted' max='2070', style='width:300px; height:20px; vertical-align: middle;'></progress>\n",
              "      Interrupted\n",
              "    </div>\n",
              "    "
            ],
            "text/plain": [
              "<IPython.core.display.HTML object>"
            ]
          },
          "metadata": {
            "tags": []
          }
        },
        {
          "output_type": "stream",
          "text": [
            "LR Finder is complete, type {learner_name}.recorder.plot() to see the graph.\n"
          ],
          "name": "stdout"
        }
      ]
    },
    {
      "metadata": {
        "id": "EF5CBFle-_TN",
        "colab_type": "code",
        "colab": {
          "base_uri": "https://localhost:8080/",
          "height": 282
        },
        "outputId": "7afbd36c-4707-40f6-ccab-cd3943cee7a9"
      },
      "cell_type": "code",
      "source": [
        "learn.recorder.plot()"
      ],
      "execution_count": 72,
      "outputs": [
        {
          "output_type": "display_data",
          "data": {
            "image/png": "[encoded data removed]",
            "text/plain": [
              "<matplotlib.figure.Figure at 0x7fa1609276d8>"
            ]
          },
          "metadata": {
            "tags": []
          }
        }
      ]
    },
    {
      "metadata": {
        "id": "DdJYv4Im_hpF",
        "colab_type": "code",
        "colab": {
          "base_uri": "https://localhost:8080/",
          "height": 109
        },
        "outputId": "6f450a53-e35f-4baa-fd98-af8ab4168dfd"
      },
      "cell_type": "code",
      "source": [
        "learn_no_pretrain = language_model_learner(data_lm, drop_mult=0.3)\n",
        "learn.lr_find()"
      ],
      "execution_count": 73,
      "outputs": [
        {
          "output_type": "display_data",
          "data": {
            "text/html": [
              "\n",
              "    <div>\n",
              "        <style>\n",
              "        \t/* Turns off some styling */\n",
              "        \tprogress {\n",
              "\n",
              "            \t/* gets rid of default border in Firefox and Opera. */\n",
              "            \tborder: none;\n",
              "\n",
              "            \t/* Needs to be in here for Safari polyfill so background images work as expected. */\n",
              "            \tbackground-size: auto;\n",
              "            }\n",
              "\n",
              "            .progress-bar-interrupted, .progress-bar-interrupted::-webkit-progress-bar {\n",
              "                background: #F44336;\n",
              "            }\n",
              "        </style>\n",
              "      <progress value='0' class='' max='1', style='width:300px; height:20px; vertical-align: middle;'></progress>\n",
              "      0.00% [0/1 00:00<00:00]\n",
              "    </div>\n",
              "    \n",
              "<table style='width:300px; margin-bottom:10px'>\n",
              "  <tr>\n",
              "    <th>epoch</th>\n",
              "    <th>train_loss</th>\n",
              "    <th>valid_loss</th>\n",
              "    <th>accuracy</th>\n",
              "  </tr>\n",
              "  <tr>\n",
              "\n",
              "  </tr>\n",
              "</table>\n",
              "\n",
              "\n",
              "    <div>\n",
              "        <style>\n",
              "        \t/* Turns off some styling */\n",
              "        \tprogress {\n",
              "\n",
              "            \t/* gets rid of default border in Firefox and Opera. */\n",
              "            \tborder: none;\n",
              "\n",
              "            \t/* Needs to be in here for Safari polyfill so background images work as expected. */\n",
              "            \tbackground-size: auto;\n",
              "            }\n",
              "\n",
              "            .progress-bar-interrupted, .progress-bar-interrupted::-webkit-progress-bar {\n",
              "                background: #F44336;\n",
              "            }\n",
              "        </style>\n",
              "      <progress value='0' class='progress-bar-interrupted' max='2070', style='width:300px; height:20px; vertical-align: middle;'></progress>\n",
              "      Interrupted\n",
              "    </div>\n",
              "    "
            ],
            "text/plain": [
              "<IPython.core.display.HTML object>"
            ]
          },
          "metadata": {
            "tags": []
          }
        },
        {
          "output_type": "stream",
          "text": [
            "LR Finder is complete, type {learner_name}.recorder.plot() to see the graph.\n"
          ],
          "name": "stdout"
        }
      ]
    },
    {
      "metadata": {
        "id": "ADRTY2xK_zSA",
        "colab_type": "code",
        "colab": {
          "base_uri": "https://localhost:8080/",
          "height": 279
        },
        "outputId": "602c18c1-e322-4dd5-ee9b-c4b0f94c17a5"
      },
      "cell_type": "code",
      "source": [
        "learn.recorder.plot()"
      ],
      "execution_count": 74,
      "outputs": [
        {
          "output_type": "display_data",
          "data": {
            "image/png": "[encoded data removed]",
            "text/plain": [
              "<matplotlib.figure.Figure at 0x7fa160927ac8>"
            ]
          },
          "metadata": {
            "tags": []
          }
        }
      ]
    },
    {
      "metadata": {
        "id": "uDZ7WlzzAQSS",
        "colab_type": "code",
        "colab": {
          "base_uri": "https://localhost:8080/",
          "height": 109
        },
        "outputId": "17ea18af-5d43-4edf-a364-5888c24de359"
      },
      "cell_type": "code",
      "source": [
        "learn_no_pretrain = language_model_learner(data_lm, drop_mult=0.3,emb_sz=600)\n",
        "learn_no_pretrain.lr_find()"
      ],
      "execution_count": 76,
      "outputs": [
        {
          "output_type": "display_data",
          "data": {
            "text/html": [
              "\n",
              "    <div>\n",
              "        <style>\n",
              "        \t/* Turns off some styling */\n",
              "        \tprogress {\n",
              "\n",
              "            \t/* gets rid of default border in Firefox and Opera. */\n",
              "            \tborder: none;\n",
              "\n",
              "            \t/* Needs to be in here for Safari polyfill so background images work as expected. */\n",
              "            \tbackground-size: auto;\n",
              "            }\n",
              "\n",
              "            .progress-bar-interrupted, .progress-bar-interrupted::-webkit-progress-bar {\n",
              "                background: #F44336;\n",
              "            }\n",
              "        </style>\n",
              "      <progress value='0' class='' max='1', style='width:300px; height:20px; vertical-align: middle;'></progress>\n",
              "      0.00% [0/1 00:00<00:00]\n",
              "    </div>\n",
              "    \n",
              "<table style='width:300px; margin-bottom:10px'>\n",
              "  <tr>\n",
              "    <th>epoch</th>\n",
              "    <th>train_loss</th>\n",
              "    <th>valid_loss</th>\n",
              "    <th>accuracy</th>\n",
              "  </tr>\n",
              "  <tr>\n",
              "\n",
              "  </tr>\n",
              "</table>\n",
              "\n",
              "\n",
              "    <div>\n",
              "        <style>\n",
              "        \t/* Turns off some styling */\n",
              "        \tprogress {\n",
              "\n",
              "            \t/* gets rid of default border in Firefox and Opera. */\n",
              "            \tborder: none;\n",
              "\n",
              "            \t/* Needs to be in here for Safari polyfill so background images work as expected. */\n",
              "            \tbackground-size: auto;\n",
              "            }\n",
              "\n",
              "            .progress-bar-interrupted, .progress-bar-interrupted::-webkit-progress-bar {\n",
              "                background: #F44336;\n",
              "            }\n",
              "        </style>\n",
              "      <progress value='0' class='progress-bar-interrupted' max='2070', style='width:300px; height:20px; vertical-align: middle;'></progress>\n",
              "      Interrupted\n",
              "    </div>\n",
              "    "
            ],
            "text/plain": [
              "<IPython.core.display.HTML object>"
            ]
          },
          "metadata": {
            "tags": []
          }
        },
        {
          "output_type": "stream",
          "text": [
            "LR Finder is complete, type {learner_name}.recorder.plot() to see the graph.\n"
          ],
          "name": "stdout"
        }
      ]
    },
    {
      "metadata": {
        "id": "wMWaXhQwAdbS",
        "colab_type": "code",
        "colab": {
          "base_uri": "https://localhost:8080/",
          "height": 279
        },
        "outputId": "34262730-0b80-42a9-d334-5b968fa2642f"
      },
      "cell_type": "code",
      "source": [
        "learn_no_pretrain.recorder.plot()"
      ],
      "execution_count": 77,
      "outputs": [
        {
          "output_type": "display_data",
          "data": {
            "image/png": "[encoded data removed]",
            "text/plain": [
              "<matplotlib.figure.Figure at 0x7fa169251320>"
            ]
          },
          "metadata": {
            "tags": []
          }
        }
      ]
    },
    {
      "metadata": {
        "id": "MYt-yzRrA4__",
        "colab_type": "code",
        "colab": {
          "base_uri": "https://localhost:8080/",
          "height": 109
        },
        "outputId": "bf3686a0-48a3-444d-9d92-58f8677b0a9a"
      },
      "cell_type": "code",
      "source": [
        "fatty = language_model_learner(data_lm, drop_mult=0.3,emb_sz=1000)\n",
        "fatty.lr_find()"
      ],
      "execution_count": 83,
      "outputs": [
        {
          "output_type": "display_data",
          "data": {
            "text/html": [
              "\n",
              "    <div>\n",
              "        <style>\n",
              "        \t/* Turns off some styling */\n",
              "        \tprogress {\n",
              "\n",
              "            \t/* gets rid of default border in Firefox and Opera. */\n",
              "            \tborder: none;\n",
              "\n",
              "            \t/* Needs to be in here for Safari polyfill so background images work as expected. */\n",
              "            \tbackground-size: auto;\n",
              "            }\n",
              "\n",
              "            .progress-bar-interrupted, .progress-bar-interrupted::-webkit-progress-bar {\n",
              "                background: #F44336;\n",
              "            }\n",
              "        </style>\n",
              "      <progress value='0' class='' max='1', style='width:300px; height:20px; vertical-align: middle;'></progress>\n",
              "      0.00% [0/1 00:00<00:00]\n",
              "    </div>\n",
              "    \n",
              "<table style='width:300px; margin-bottom:10px'>\n",
              "  <tr>\n",
              "    <th>epoch</th>\n",
              "    <th>train_loss</th>\n",
              "    <th>valid_loss</th>\n",
              "    <th>accuracy</th>\n",
              "  </tr>\n",
              "  <tr>\n",
              "\n",
              "  </tr>\n",
              "</table>\n",
              "\n",
              "\n",
              "    <div>\n",
              "        <style>\n",
              "        \t/* Turns off some styling */\n",
              "        \tprogress {\n",
              "\n",
              "            \t/* gets rid of default border in Firefox and Opera. */\n",
              "            \tborder: none;\n",
              "\n",
              "            \t/* Needs to be in here for Safari polyfill so background images work as expected. */\n",
              "            \tbackground-size: auto;\n",
              "            }\n",
              "\n",
              "            .progress-bar-interrupted, .progress-bar-interrupted::-webkit-progress-bar {\n",
              "                background: #F44336;\n",
              "            }\n",
              "        </style>\n",
              "      <progress value='0' class='progress-bar-interrupted' max='2070', style='width:300px; height:20px; vertical-align: middle;'></progress>\n",
              "      Interrupted\n",
              "    </div>\n",
              "    "
            ],
            "text/plain": [
              "<IPython.core.display.HTML object>"
            ]
          },
          "metadata": {
            "tags": []
          }
        },
        {
          "output_type": "stream",
          "text": [
            "LR Finder is complete, type {learner_name}.recorder.plot() to see the graph.\n"
          ],
          "name": "stdout"
        }
      ]
    },
    {
      "metadata": {
        "id": "ZczwcMZbBHb9",
        "colab_type": "code",
        "colab": {
          "base_uri": "https://localhost:8080/",
          "height": 279
        },
        "outputId": "285583c4-cd59-4204-fc2c-cacb15022f61"
      },
      "cell_type": "code",
      "source": [
        "fatty.recorder.plot()"
      ],
      "execution_count": 84,
      "outputs": [
        {
          "output_type": "display_data",
          "data": {
            "image/png": "[encoded data removed]",
            "text/plain": [
              "<matplotlib.figure.Figure at 0x7fa16766d4a8>"
            ]
          },
          "metadata": {
            "tags": []
          }
        }
      ]
    },
    {
      "metadata": {
        "id": "5gsZnlTUCJnc",
        "colab_type": "code",
        "colab": {
          "base_uri": "https://localhost:8080/",
          "height": 85
        },
        "outputId": "6f94f326-831a-4178-a05c-c6f7a83ba141"
      },
      "cell_type": "code",
      "source": [
        "learn = fatty\n",
        "\n",
        "learn.fit_one_cycle(1, 1e-2, moms=(0.8,0.7))"
      ],
      "execution_count": 85,
      "outputs": [
        {
          "output_type": "stream",
          "text": [
            "Total time: 35:44\n",
            "epoch  train_loss  valid_loss  accuracy\n",
            "1      3.445668    3.366107    0.401342  (35:44)\n",
            "\n"
          ],
          "name": "stdout"
        }
      ]
    },
    {
      "metadata": {
        "id": "Ns-82dF3CSV2",
        "colab_type": "code",
        "colab": {}
      },
      "cell_type": "code",
      "source": [
        "learn.save(f'{BASE}rjokesfirstepoch')"
      ],
      "execution_count": 0,
      "outputs": []
    },
    {
      "metadata": {
        "id": "y1S1pSYgKun7",
        "colab_type": "code",
        "colab": {}
      },
      "cell_type": "code",
      "source": [
        "#learn.load seems weird but works?"
      ],
      "execution_count": 0,
      "outputs": []
    },
    {
      "metadata": {
        "id": "xrm_xbXzLYDU",
        "colab_type": "code",
        "colab": {
          "base_uri": "https://localhost:8080/",
          "height": 88
        },
        "outputId": "8a91250c-515a-4af2-f5d6-e8727ac1f1d0"
      },
      "cell_type": "code",
      "source": [
        "learn.predict(\"What do you call\", n_words=250)"
      ],
      "execution_count": 90,
      "outputs": [
        {
          "output_type": "stream",
          "text": [
            "Total time: 00:26\n",
            "\n"
          ],
          "name": "stdout"
        },
        {
          "output_type": "execute_result",
          "data": {
            "text/plain": [
              "\"What do you call the gorilla , the hair - dressed in charge of course he sees the xxup wins . when you ca nt trust a minor , but do n't even worse than a traditional rice xxup ceo of course from the standard player left suddenly whitney bieber . \\n to buy one of the heck how do n't touch the 1940s youth character ? y - show up and on your door or something that he decided that involves our couples and rear door . then fly over there will be able to the same mammal washer of course you know what i heard this wired control of course you may be thirsty food and they 're whoo 's all day ago , pointy corn . \\n\\n suddenly an experiment ? from my martian boy 's big reasons they were both of course would do n't pass people who 's your mistress 's not much better than * c ' shake at the plane trip to the specialist thought about 40 or something like , but one of course not wanting to send attention about vomit , he 's convinced on our favorite american book joke ? ! ! \\n\\n the amazing florida hippie salad . we willies , therefore , annoyed by the united states that might be refreshed . \\n incompetence commited her hook burst toward her skirts . xxup dom 1930s to keep on her body grows and seemed to which showed up the next to spend hour\""
            ]
          },
          "metadata": {
            "tags": []
          },
          "execution_count": 90
        }
      ]
    },
    {
      "metadata": {
        "id": "0z76ojxZLgKR",
        "colab_type": "code",
        "colab": {
          "base_uri": "https://localhost:8080/",
          "height": 88
        },
        "outputId": "50335a90-4f3d-4adc-ba6e-b6cc6d0c2062"
      },
      "cell_type": "code",
      "source": [
        "learn.predict(\"xxup zzzbeginzzz xxup what do you call\", n_words=250)"
      ],
      "execution_count": 93,
      "outputs": [
        {
          "output_type": "stream",
          "text": [
            "Total time: 00:26\n",
            "\n"
          ],
          "name": "stdout"
        },
        {
          "output_type": "execute_result",
          "data": {
            "text/plain": [
              "\"xxup zzzbeginzzz xxup what do you call them to pick up to be penniless . \\n reply : \\n looking for deals on the religion and prevents hide under stripes itself on stage please come out of course . killed like god rascist announced and the cold leg and then impress him and beautiful women get out of course . \\n\\n  xxup styles xxup tsa war cleaner of course . the biggest handicap do you know how great news card . genie accepts . \\n\\n edit : my girlfriend . xxup hiv . only twenty degrees of course we can not to do nt even more than babies are good news and the baboon usain bolt on this morning cost a few years after finishing new pukes in a little brother superior , but the time ago throughout the church tangent - slur and the salon at the world team caused regional arts - set ' fuck yourself out of course ... \\n\\n & both overlooking the fictional games . \\n\\n an electrician ... < + 27 - dressed on the funniest joke about the vacuum cleaner syndrome . suggestively and mountains on the path of course came out of course ! ! ! \\n\\n\\n\\n\\n\\n  xxup tv understands if you see who comes to get in the public romps has it used alcohol editor . that means that i just imagine you could not knowing what else sticks a bit of course feels better answer : http : do you bloody identifying your age of course ?\""
            ]
          },
          "metadata": {
            "tags": []
          },
          "execution_count": 93
        }
      ]
    },
    {
      "metadata": {
        "id": "wQR5qOQbMFJX",
        "colab_type": "code",
        "colab": {
          "base_uri": "https://localhost:8080/",
          "height": 34
        },
        "outputId": "2ee6ef71-8891-47be-d0cc-e092d972dab6"
      },
      "cell_type": "code",
      "source": [
        "len(data_lm.vocab.itos)"
      ],
      "execution_count": 101,
      "outputs": [
        {
          "output_type": "execute_result",
          "data": {
            "text/plain": [
              "32806"
            ]
          },
          "metadata": {
            "tags": []
          },
          "execution_count": 101
        }
      ]
    },
    {
      "metadata": {
        "id": "daGed6A4M4pO",
        "colab_type": "code",
        "colab": {
          "base_uri": "https://localhost:8080/",
          "height": 109
        },
        "outputId": "4e43d4f8-d1b7-4093-9f47-02ffea88290e"
      },
      "cell_type": "code",
      "source": [
        "learn.lr_find()"
      ],
      "execution_count": 102,
      "outputs": [
        {
          "output_type": "display_data",
          "data": {
            "text/html": [
              "\n",
              "    <div>\n",
              "        <style>\n",
              "        \t/* Turns off some styling */\n",
              "        \tprogress {\n",
              "\n",
              "            \t/* gets rid of default border in Firefox and Opera. */\n",
              "            \tborder: none;\n",
              "\n",
              "            \t/* Needs to be in here for Safari polyfill so background images work as expected. */\n",
              "            \tbackground-size: auto;\n",
              "            }\n",
              "\n",
              "            .progress-bar-interrupted, .progress-bar-interrupted::-webkit-progress-bar {\n",
              "                background: #F44336;\n",
              "            }\n",
              "        </style>\n",
              "      <progress value='0' class='' max='1', style='width:300px; height:20px; vertical-align: middle;'></progress>\n",
              "      0.00% [0/1 00:00<00:00]\n",
              "    </div>\n",
              "    \n",
              "<table style='width:300px; margin-bottom:10px'>\n",
              "  <tr>\n",
              "    <th>epoch</th>\n",
              "    <th>train_loss</th>\n",
              "    <th>valid_loss</th>\n",
              "    <th>accuracy</th>\n",
              "  </tr>\n",
              "  <tr>\n",
              "\n",
              "  </tr>\n",
              "</table>\n",
              "\n",
              "\n",
              "    <div>\n",
              "        <style>\n",
              "        \t/* Turns off some styling */\n",
              "        \tprogress {\n",
              "\n",
              "            \t/* gets rid of default border in Firefox and Opera. */\n",
              "            \tborder: none;\n",
              "\n",
              "            \t/* Needs to be in here for Safari polyfill so background images work as expected. */\n",
              "            \tbackground-size: auto;\n",
              "            }\n",
              "\n",
              "            .progress-bar-interrupted, .progress-bar-interrupted::-webkit-progress-bar {\n",
              "                background: #F44336;\n",
              "            }\n",
              "        </style>\n",
              "      <progress value='0' class='progress-bar-interrupted' max='2070', style='width:300px; height:20px; vertical-align: middle;'></progress>\n",
              "      Interrupted\n",
              "    </div>\n",
              "    "
            ],
            "text/plain": [
              "<IPython.core.display.HTML object>"
            ]
          },
          "metadata": {
            "tags": []
          }
        },
        {
          "output_type": "stream",
          "text": [
            "LR Finder is complete, type {learner_name}.recorder.plot() to see the graph.\n"
          ],
          "name": "stdout"
        }
      ]
    },
    {
      "metadata": {
        "id": "ogasi69ANo9L",
        "colab_type": "code",
        "colab": {
          "base_uri": "https://localhost:8080/",
          "height": 280
        },
        "outputId": "5886d2a5-146d-4590-9167-395b0655a4f8"
      },
      "cell_type": "code",
      "source": [
        "learn.recorder.plot()"
      ],
      "execution_count": 103,
      "outputs": [
        {
          "output_type": "display_data",
          "data": {
            "image/png": "[encoded data removed]",
            "text/plain": [
              "<matplotlib.figure.Figure at 0x7fa161c434e0>"
            ]
          },
          "metadata": {
            "tags": []
          }
        }
      ]
    },
    {
      "metadata": {
        "id": "G0pAsjPqOAL1",
        "colab_type": "code",
        "colab": {}
      },
      "cell_type": "code",
      "source": [
        "learn.lr_find(start_lr=1e-8,end_lr=1e-3)"
      ],
      "execution_count": 0,
      "outputs": []
    },
    {
      "metadata": {
        "colab_type": "code",
        "id": "xUErd-60OjZm",
        "colab": {
          "base_uri": "https://localhost:8080/",
          "height": 85
        },
        "outputId": "9e77c1d3-d7bd-44e2-b898-7c006d5886ed"
      },
      "cell_type": "code",
      "source": [
        "learn.unfreeze()\n",
        "learn.fit_one_cycle(1, 1e-5/2, moms=(0.8,0.7))"
      ],
      "execution_count": 105,
      "outputs": [
        {
          "output_type": "stream",
          "text": [
            "Total time: 35:40\n",
            "epoch  train_loss  valid_loss  accuracy\n",
            "1      3.274413    3.363138    0.401792  (35:40)\n",
            "\n"
          ],
          "name": "stdout"
        }
      ]
    },
    {
      "metadata": {
        "id": "aHetPGxiOuMh",
        "colab_type": "code",
        "colab": {
          "base_uri": "https://localhost:8080/",
          "height": 88
        },
        "outputId": "4e8980d5-220d-40ab-989d-0d4ba6aa3fc7"
      },
      "cell_type": "code",
      "source": [
        "learn.predict(\"walks into\", n_words=250)"
      ],
      "execution_count": 107,
      "outputs": [
        {
          "output_type": "stream",
          "text": [
            "Total time: 00:27\n",
            "\n"
          ],
          "name": "stdout"
        },
        {
          "output_type": "execute_result",
          "data": {
            "text/plain": [
              "'walks into a refried parliament has to see someone cares about 15 degree beckons himself around texas citizen and patches of these penguins fourth grade workers that means that way to keep him . \\n i am i \\'m - skier prague . in a dozen ducks ? sorry , in case of course . you could be able to which guy ’s favourite event telephone clubs now he did n\\'t perform six inches of course of course , mr. no matter about 10 % of course . xxup irs minister \\'s been incidents ! give us . it is so many criminals would be excited he replies : \\n edit : / r - ups \\n\\n so fast in case on the laboratory . shawn , after 5 meters to demonstrate when he noticed that last night after the police officer raised up for lunch hard work with a special words like the poor dildo . \\n\\n 1 million pounds on stage ! ! \\n\\n\\n the pharaoh \\'s been drinking baseball bill \\'s be really wants to see slip of course it \\'s extremely advanced should have to sell to get circumcised as well , still a throne to a goose pounds of the weekend . \\n\\n \" xxup hr hope she wished to keep known by your embraced him from that iphone paper carnal girls start laughing hysterically . wow ! ! ! xxup id \\'s best friend . \\r xxup fbi branches of nature of course . \\n  xxup'"
            ]
          },
          "metadata": {
            "tags": []
          },
          "execution_count": 107
        }
      ]
    },
    {
      "metadata": {
        "id": "_RZdkXcoXC92",
        "colab_type": "code",
        "colab": {
          "base_uri": "https://localhost:8080/",
          "height": 68
        },
        "outputId": "7e2e759e-e19f-4a19-d5ed-0385271f13f6"
      },
      "cell_type": "code",
      "source": [
        "learn.predict(\"A blonde\", n_words=42)"
      ],
      "execution_count": 108,
      "outputs": [
        {
          "output_type": "stream",
          "text": [
            "Total time: 00:03\n",
            "\n"
          ],
          "name": "stdout"
        },
        {
          "output_type": "execute_result",
          "data": {
            "text/plain": [
              "\"A blonde cleveland ( best breakfast for 2000 degrees , me : 8 minute - less than 15 ' l. whack . \\n\\n my mama 's 10 . \\n\\n 1 . xxup zzzendzzz xxbos xxfld 1 million women and an old macdonald lector wager\""
            ]
          },
          "metadata": {
            "tags": []
          },
          "execution_count": 108
        }
      ]
    },
    {
      "metadata": {
        "id": "MNJ7J1WgX0Ep",
        "colab_type": "code",
        "colab": {
          "base_uri": "https://localhost:8080/",
          "height": 88
        },
        "outputId": "d95a5253-848b-4293-ac33-68495938b38a"
      },
      "cell_type": "code",
      "source": [
        "learn.predict(\"A blonde\", n_words=42)"
      ],
      "execution_count": 109,
      "outputs": [
        {
          "output_type": "stream",
          "text": [
            "Total time: 00:03\n",
            "\n"
          ],
          "name": "stdout"
        },
        {
          "output_type": "execute_result",
          "data": {
            "text/plain": [
              "\"A blonde age of course developed reverse israel is a o'reilly lewinsky ? xxup walks into a glass of course of course hall needs golden knows where you can not wanting to get off in the boat march of course was a leaf missing\""
            ]
          },
          "metadata": {
            "tags": []
          },
          "execution_count": 109
        }
      ]
    },
    {
      "metadata": {
        "id": "70kuSyf9X5vA",
        "colab_type": "code",
        "colab": {}
      },
      "cell_type": "code",
      "source": [
        "learn.save(f'{BASE}rjokes_finetunes')\n",
        "learn.save_encoder(f'{BASE}rjokes_finetuned_encoder')"
      ],
      "execution_count": 0,
      "outputs": []
    },
    {
      "metadata": {
        "id": "bBSQqF3sYMI7",
        "colab_type": "code",
        "colab": {}
      },
      "cell_type": "code",
      "source": [
        ""
      ],
      "execution_count": 0,
      "outputs": []
    }
  ]
}